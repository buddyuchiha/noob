{
 "cells": [
  {
   "cell_type": "markdown",
   "id": "6d5f8aae",
   "metadata": {},
   "source": [
    "Дан список:\n",
    "\n",
    "[1, '', 2, 3, '', 5]\n",
    "Удалите из списка все пустые строки."
   ]
  },
  {
   "cell_type": "code",
   "execution_count": 7,
   "id": "789403f5",
   "metadata": {},
   "outputs": [
    {
     "name": "stdout",
     "output_type": "stream",
     "text": [
      "[1, 2, 3, 5]\n"
     ]
    }
   ],
   "source": [
    "a = [1, '', 2, 3, '', 5]\n",
    "while '' in a:\n",
    "    a.remove('')\n",
    "print(a)"
   ]
  },
  {
   "cell_type": "markdown",
   "id": "b1d8a3f6",
   "metadata": {},
   "source": [
    "Дан следующий словарь:\n",
    "\n",
    "dct = {\n",
    "\t1: {\n",
    "\t\t1: 11,\n",
    "\t\t2: 12,\n",
    "\t\t3: 13,\n",
    "\t},\n",
    "\t2: {\n",
    "\t\t1: 21,\n",
    "\t\t2: 22,\n",
    "\t\t3: 23,\n",
    "\t},\n",
    "\t3: {\n",
    "\t\t1: 24,\n",
    "\t\t2: 25,\n",
    "\t\t3: 26,\n",
    "\t},\n",
    "}\n",
    "Найдите сумму элементов этого словаря."
   ]
  },
  {
   "cell_type": "code",
   "execution_count": null,
   "id": "24e00ee1",
   "metadata": {},
   "outputs": [
    {
     "name": "stdout",
     "output_type": "stream",
     "text": [
      "11\n",
      "12\n",
      "13\n",
      "21\n",
      "22\n",
      "23\n",
      "24\n",
      "25\n",
      "26\n",
      "177\n"
     ]
    }
   ],
   "source": [
    "dct = {\n",
    "\t1: {\n",
    "\t\t1: 11,\n",
    "\t\t2: 12,\n",
    "\t\t3: 13,\n",
    "\t},\n",
    "\t2: {\n",
    "\t\t1: 21,\n",
    "\t\t2: 22,\n",
    "\t\t3: 23,\n",
    "\t},\n",
    "\t3: {\n",
    "\t\t1: 24,\n",
    "\t\t2: 25,\n",
    "\t\t3: 26,\n",
    "\t},\n",
    "}\n",
    "\n",
    "summa = 0\n",
    "\n",
    "for values in dct.values():\n",
    "    for val in values.values():\n",
    "        summa += val\n",
    "    \n",
    "print(summa)"
   ]
  },
  {
   "cell_type": "markdown",
   "id": "3ac3d429",
   "metadata": {},
   "source": [
    "Дана следующая структура:\n",
    "\n",
    "lst = [\n",
    "\t{\n",
    "\t\t1: 11,\n",
    "\t\t2: 12,\n",
    "\t\t3: 13,\n",
    "\t},\n",
    "\t{\n",
    "\t\t1: 21,\n",
    "\t\t2: 22,\n",
    "\t\t3: 23,\n",
    "\t},\n",
    "\t{\n",
    "\t\t1: 24,\n",
    "\t\t2: 25,\n",
    "\t\t3: 26,\n",
    "\t},\n",
    "];\n",
    "Найдите сумму элементов этой структуры."
   ]
  },
  {
   "cell_type": "code",
   "execution_count": 21,
   "id": "bc7c79cf",
   "metadata": {},
   "outputs": [
    {
     "name": "stdout",
     "output_type": "stream",
     "text": [
      "177\n"
     ]
    }
   ],
   "source": [
    "lst = [\n",
    "\t{\n",
    "\t\t1: 11,\n",
    "\t\t2: 12,\n",
    "\t\t3: 13,\n",
    "\t},\n",
    "\t{\n",
    "\t\t1: 21,\n",
    "\t\t2: 22,\n",
    "\t\t3: 23,\n",
    "\t},\n",
    "\t{\n",
    "\t\t1: 24,\n",
    "\t\t2: 25,\n",
    "\t\t3: 26,\n",
    "\t},\n",
    "];\n",
    "\n",
    "summa = 0 \n",
    "\n",
    "for i in lst:\n",
    "    for values in i.values():\n",
    "        summa += values\n",
    "        \n",
    "print(summa)"
   ]
  },
  {
   "cell_type": "markdown",
   "id": "96f0d2f6",
   "metadata": {},
   "source": [
    "Дан список:\n",
    "\n",
    "[\n",
    "\t[1, 2, 3],\n",
    "\t[4, 5, 6],\n",
    "\t[7, 8, 9],\n",
    "]\n",
    "Слейте элементы этого списка в один одномерный список:\n",
    "\n",
    "[1, 2, 3, 4, 5, 6, 7, 8, 9]"
   ]
  },
  {
   "cell_type": "code",
   "execution_count": 22,
   "id": "1ce1be28",
   "metadata": {},
   "outputs": [
    {
     "name": "stdout",
     "output_type": "stream",
     "text": [
      "[1, 2, 3, 4, 5, 6, 7, 8, 9]\n"
     ]
    }
   ],
   "source": [
    "a = [\n",
    "\t[1, 2, 3],\n",
    "\t[4, 5, 6],\n",
    "\t[7, 8, 9],\n",
    "]\n",
    "\n",
    "b = []\n",
    "\n",
    "for i in a:\n",
    "    for j in i: \n",
    "        b.append(j)\n",
    "\n",
    "print(b)"
   ]
  },
  {
   "cell_type": "markdown",
   "id": "54858db9",
   "metadata": {},
   "source": [
    "Дан список:\n",
    "\n",
    "[\n",
    "\t[2, 1, 4, 3, 5],\n",
    "\t[3, 5, 2, 4, 1],\n",
    "\t[4, 3, 1, 5, 2],\n",
    "]\n",
    "Отсортируйте элементы в каждом подсписке."
   ]
  },
  {
   "cell_type": "code",
   "execution_count": 23,
   "id": "0610d4e0",
   "metadata": {},
   "outputs": [
    {
     "name": "stdout",
     "output_type": "stream",
     "text": [
      "[[1, 2, 3, 4, 5], [1, 2, 3, 4, 5], [1, 2, 3, 4, 5]]\n"
     ]
    }
   ],
   "source": [
    "a = [\n",
    "\t[2, 1, 4, 3, 5],\n",
    "\t[3, 5, 2, 4, 1],\n",
    "\t[4, 3, 1, 5, 2],\n",
    "]\n",
    "\n",
    "for i in a: \n",
    "    i = i.sort()\n",
    "    \n",
    "print(a)"
   ]
  },
  {
   "cell_type": "markdown",
   "id": "3e8baff2",
   "metadata": {},
   "source": [
    "Дан некоторый список, например, вот такой:\n",
    "\n",
    "[1, 2, 3, 4, 5, 6]\n",
    "Поменяйте местами пары элементов этого списка:\n",
    "\n",
    "[2, 1, 4, 3, 6, 5]"
   ]
  },
  {
   "cell_type": "code",
   "execution_count": null,
   "id": "243bf073",
   "metadata": {},
   "outputs": [
    {
     "name": "stdout",
     "output_type": "stream",
     "text": [
      "[1, 2, 3, 4, 5, 6]\n"
     ]
    }
   ],
   "source": [
    "a = [1, 2, 3, 4, 5, 6]\n",
    "\n",
    "for i in range(0, len(a), 2):\n",
    "    a[i], a[i+1] = a[i+1], a[i]\n",
    "print(a)"
   ]
  },
  {
   "cell_type": "markdown",
   "id": "3a60ce69",
   "metadata": {},
   "source": [
    "Дана некоторая строка:\n",
    "\n",
    "'1 22 333 4444 22 5555 1'\n",
    "Удалите из этой строки все подстроки, в которых количество символов больше трех. В нашем случае должно получится следующее:\n",
    "\n",
    "'1 22 333 22 1'"
   ]
  },
  {
   "cell_type": "code",
   "execution_count": null,
   "id": "f78dff7a",
   "metadata": {},
   "outputs": [
    {
     "name": "stdout",
     "output_type": "stream",
     "text": [
      "1 22 333 22 1\n"
     ]
    }
   ],
   "source": [
    "string = '1 22 333 4444 22 5555 1'\n",
    "lst1 = string.split(' ')\n",
    "for i in lst1:\n",
    "    if(len(i)) > 3:\n",
    "        lst1.remove(i)\n",
    "string = ' '.join(lst1)\n",
    "print(string)"
   ]
  },
  {
   "cell_type": "markdown",
   "id": "27664d74",
   "metadata": {},
   "source": [
    "Дан некоторый список, например, вот такой:\n",
    "\n",
    "[123, 456, 789]\n",
    "Слейте все элементы этого списка в один список, разбив их посимвольно:\n",
    "\n",
    "[1, 2, 3, 4, 5, 6, 7, 8, 9]"
   ]
  },
  {
   "cell_type": "code",
   "execution_count": 40,
   "id": "fc552fb0",
   "metadata": {},
   "outputs": [
    {
     "name": "stdout",
     "output_type": "stream",
     "text": [
      "['1', '2', '3', '4', '5', '6', '7', '8', '9']\n"
     ]
    }
   ],
   "source": [
    "lst1 = [123, 456, 789]\n",
    "lst2 = []\n",
    "for i in lst1: \n",
    "    string = str(i)\n",
    "    for j in string:\n",
    "        lst2.append(j)\n",
    "print(lst2)"
   ]
  },
  {
   "cell_type": "markdown",
   "id": "40b30588",
   "metadata": {},
   "source": [
    "Дано некоторое число:\n",
    "\n",
    "123456\n",
    "Найдите сумму пар цифр этого числа. В нашем случае имеется ввиду следующее:\n",
    "\n",
    "12 + 34 + 56"
   ]
  },
  {
   "cell_type": "code",
   "execution_count": 44,
   "id": "7c9c573d",
   "metadata": {},
   "outputs": [
    {
     "name": "stdout",
     "output_type": "stream",
     "text": [
      "102\n"
     ]
    }
   ],
   "source": [
    "a = 123456\n",
    "lst1 = [i for i in str(a)]\n",
    "\n",
    "summa = 0\n",
    "for i in range(0, len(lst1)-1, 2):\n",
    "    string = lst1[i] + lst1[i+1]\n",
    "    numb = int(string)\n",
    "    summa += numb \n",
    "    \n",
    "print(summa)"
   ]
  },
  {
   "cell_type": "markdown",
   "id": "8cb8459d",
   "metadata": {},
   "source": [
    "Дана некоторая строка с числом:\n",
    "\n",
    "'1234567'\n",
    "Отделите тройки цифр пробелами, начиная с конца числа. В нашем случае должно получится следующее:\n",
    "\n",
    "'1 234 567'"
   ]
  },
  {
   "cell_type": "code",
   "execution_count": 61,
   "id": "aecb3dfb",
   "metadata": {},
   "outputs": [
    {
     "name": "stdout",
     "output_type": "stream",
     "text": [
      "7654321\n",
      "1 234 567\n"
     ]
    }
   ],
   "source": [
    "a = '1234567'\n",
    "a = a[::-1]\n",
    "print(a)\n",
    "b = ''\n",
    "count = 0 \n",
    "for i in a:\n",
    "    count += 1\n",
    "    b += i \n",
    "    if count % 3 == 0 and count != 0: \n",
    "        b += ' '\n",
    "print(b[::-1])"
   ]
  },
  {
   "cell_type": "markdown",
   "id": "9a1ea799",
   "metadata": {},
   "source": [
    "Сделайте функцию, которая параметром будет принимать список и элемент и возвращать следующий за ним элемент. Смотрите пример:\n",
    "\n",
    "lst = [1, 2, 3, 4, 5];\n",
    "\n",
    "func(lst, 1); // 2\n",
    "func(lst, 4); // 5\n",
    "func(lst, 5); // 1"
   ]
  },
  {
   "cell_type": "code",
   "execution_count": 63,
   "id": "098c4e74",
   "metadata": {},
   "outputs": [
    {
     "name": "stdout",
     "output_type": "stream",
     "text": [
      "3\n"
     ]
    }
   ],
   "source": [
    "lst = [1, 2, 3, 4, 5]\n",
    "\n",
    "def func(lst: list[int], num: int) -> int: \n",
    "    for i in range(len(lst)-1):\n",
    "        if lst[i] == num:\n",
    "            return lst[i+1]\n",
    "    return None \n",
    "\n",
    "print(func(lst, 2))"
   ]
  },
  {
   "cell_type": "markdown",
   "id": "328128a1",
   "metadata": {},
   "source": [
    "Сделайте функцию, которая параметром будет принимать число, а возвращать сумму его делителей."
   ]
  },
  {
   "cell_type": "code",
   "execution_count": 66,
   "id": "48d48c4f",
   "metadata": {},
   "outputs": [
    {
     "name": "stdout",
     "output_type": "stream",
     "text": [
      "8\n"
     ]
    }
   ],
   "source": [
    "a = 10 \n",
    "\n",
    "def func(a: int) -> int:\n",
    "    sum = 0\n",
    "    for i in range(1, a):\n",
    "        if a % i == 0:\n",
    "            sum += i \n",
    "    return sum \n",
    "\n",
    "print(func(a)) "
   ]
  },
  {
   "cell_type": "markdown",
   "id": "286f47fd",
   "metadata": {},
   "source": [
    "Сделайте функцию, которая параметром будет принимать число и удалять из него нули."
   ]
  },
  {
   "cell_type": "code",
   "execution_count": 69,
   "id": "147fc675",
   "metadata": {},
   "outputs": [
    {
     "name": "stdout",
     "output_type": "stream",
     "text": [
      "11\n"
     ]
    }
   ],
   "source": [
    "a = 10100\n",
    "\n",
    "def func(a: int) -> int: \n",
    "    str_a = str(a)\n",
    "    str_a = str_a.replace('0', '')\n",
    "    return int(str_a)\n",
    "print(func(a))"
   ]
  },
  {
   "cell_type": "markdown",
   "id": "13b46b72",
   "metadata": {},
   "source": [
    "Сделайте функцию, которая параметром будет принимать список и удалять из него все дубли, которые встречаются больше трех раз."
   ]
  },
  {
   "cell_type": "code",
   "execution_count": 71,
   "id": "c87d9668",
   "metadata": {},
   "outputs": [
    {
     "name": "stdout",
     "output_type": "stream",
     "text": [
      "[0, 0, 3, 4, 10]\n"
     ]
    }
   ],
   "source": [
    "a = [0, 0, 1, 1, 1, 2, 3, 2, 4, 2, 9, 9, 9, 10]\n",
    "\n",
    "def func(a: list[int]) -> list[int]:\n",
    "    for i in a:\n",
    "        if a.count(i) > 2:\n",
    "            while i in a:\n",
    "                a.remove(i)\n",
    "    return a \n",
    "\n",
    "print(func(a))"
   ]
  },
  {
   "cell_type": "markdown",
   "id": "a0d479b6",
   "metadata": {},
   "source": [
    "Сделайте функцию, которая параметром будет принимать число и проверять, простое оно или нет."
   ]
  },
  {
   "cell_type": "code",
   "execution_count": 74,
   "id": "83b651f4",
   "metadata": {},
   "outputs": [
    {
     "name": "stdout",
     "output_type": "stream",
     "text": [
      "True\n"
     ]
    }
   ],
   "source": [
    "a = 101\n",
    "\n",
    "def func(a: int) -> bool:\n",
    "    for i in range(1, a):\n",
    "        if a % i == 0 and i != 1 and i != a:\n",
    "            return False \n",
    "    return True \n",
    "\n",
    "print(func(a))"
   ]
  },
  {
   "cell_type": "markdown",
   "id": "c594b103",
   "metadata": {},
   "source": [
    "Сделайте функцию, которая параметром будет принимать список с числами и возвращать второе по величине число."
   ]
  },
  {
   "cell_type": "code",
   "execution_count": 76,
   "id": "225c509d",
   "metadata": {},
   "outputs": [
    {
     "name": "stdout",
     "output_type": "stream",
     "text": [
      "45\n"
     ]
    }
   ],
   "source": [
    "a = [0, 101, 20, 30, 45]\n",
    "\n",
    "def func(a: list[int]) -> int:\n",
    "    a.remove(max(a))\n",
    "    return max(a)\n",
    "    \n",
    "print(func(a))"
   ]
  },
  {
   "cell_type": "markdown",
   "id": "f61f39b7",
   "metadata": {},
   "source": [
    "Сделайте функцию, которая параметром будет получать строку со словами, а возвращать строку в верхнем регистре, состоящую из первых букв слов."
   ]
  },
  {
   "cell_type": "code",
   "execution_count": 82,
   "id": "91b08e2a",
   "metadata": {},
   "outputs": [
    {
     "name": "stdout",
     "output_type": "stream",
     "text": [
      "ВПКД\n"
     ]
    }
   ],
   "source": [
    "a = \"Всем привет как дела\"\n",
    "\n",
    "def func(a: str) -> str:\n",
    "    lst1 = a.split(' ')\n",
    "    ret = ''\n",
    "    for i in lst1:\n",
    "        ret += i.upper()[0]\n",
    "    return ret \n",
    "\n",
    "print(func(a))"
   ]
  },
  {
   "cell_type": "markdown",
   "id": "03741472",
   "metadata": {},
   "source": [
    "Сделайте функцию, которая параметром будет принимать список с числами и заменять каждое число на список его делителей."
   ]
  },
  {
   "cell_type": "code",
   "execution_count": 84,
   "id": "83747738",
   "metadata": {},
   "outputs": [
    {
     "name": "stdout",
     "output_type": "stream",
     "text": [
      "[[1, 2, 4, 5, 10, 20, 25, 50], [1, 2, 5], [1, 2, 4, 5, 10]]\n"
     ]
    }
   ],
   "source": [
    "a = [100, 10, 20]\n",
    "\n",
    "def func(a: list[int]) -> list[list[int]]:\n",
    "    main = []\n",
    "    for i in a:\n",
    "        sub = []\n",
    "        for j in range(1, i):\n",
    "            if i % j == 0:\n",
    "                sub.append(j)\n",
    "        main.append(sub)\n",
    "    return main\n",
    "        \n",
    "print(func(a)) "
   ]
  },
  {
   "cell_type": "markdown",
   "id": "8326f9ec",
   "metadata": {},
   "source": [
    "Сделайте функцию, которая параметрами будет принимать любое количество чисел, а возвращать их сумму."
   ]
  },
  {
   "cell_type": "code",
   "execution_count": 86,
   "id": "1c02fd00",
   "metadata": {},
   "outputs": [
    {
     "name": "stdout",
     "output_type": "stream",
     "text": [
      "100\n"
     ]
    }
   ],
   "source": [
    "def func(*args):\n",
    "    summa = 0\n",
    "    for i in args: \n",
    "        summa += i \n",
    "    return summa \n",
    " \n",
    "print(func(10, 20 ,30, 40))"
   ]
  }
 ],
 "metadata": {
  "kernelspec": {
   "display_name": "Python 3",
   "language": "python",
   "name": "python3"
  },
  "language_info": {
   "codemirror_mode": {
    "name": "ipython",
    "version": 3
   },
   "file_extension": ".py",
   "mimetype": "text/x-python",
   "name": "python",
   "nbconvert_exporter": "python",
   "pygments_lexer": "ipython3",
   "version": "3.12.0"
  }
 },
 "nbformat": 4,
 "nbformat_minor": 5
}
