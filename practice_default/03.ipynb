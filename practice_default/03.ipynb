{
 "cells": [
  {
   "cell_type": "markdown",
   "id": "797ef1ad",
   "metadata": {},
   "source": [
    "Дан словарь:\n",
    "\n",
    "{\n",
    "\t'a': 1,\n",
    "\t'b': 2,\n",
    "\t'c': 3, \n",
    "\t'd': 4,\n",
    "}\n",
    "\n",
    "Найдите сумму квадратов элементов этого словаря."
   ]
  },
  {
   "cell_type": "code",
   "execution_count": 12,
   "id": "fb9d0f3b",
   "metadata": {},
   "outputs": [
    {
     "name": "stdout",
     "output_type": "stream",
     "text": [
      "30\n"
     ]
    }
   ],
   "source": [
    "a = {\n",
    "\t'a': 1,\n",
    "\t'b': 2,\n",
    "\t'c': 3, \n",
    "\t'd': 4,\n",
    "}\n",
    "\n",
    "sum = 0\n",
    "\n",
    "for value in a.values():\n",
    "    sum += value ** 2\n",
    "print(sum)"
   ]
  },
  {
   "cell_type": "markdown",
   "id": "9a27839d",
   "metadata": {},
   "source": [
    "Дана строка:\n",
    "\n",
    "'abcde'\n",
    "Получите список букв этой строки."
   ]
  },
  {
   "cell_type": "code",
   "execution_count": 13,
   "id": "28dad3fb",
   "metadata": {},
   "outputs": [
    {
     "name": "stdout",
     "output_type": "stream",
     "text": [
      "['a', 'b', 'c', 'd', 'e']\n"
     ]
    }
   ],
   "source": [
    "str = 'abcde'\n",
    "a = [s for s in str]\n",
    "print(a)"
   ]
  },
  {
   "cell_type": "markdown",
   "id": "57a0c1a0",
   "metadata": {},
   "source": [
    "Дано некоторое число:\n",
    "\n",
    "12345\n",
    "Получите список цифр этого числа."
   ]
  },
  {
   "cell_type": "code",
   "execution_count": 14,
   "id": "a04d93f3",
   "metadata": {},
   "outputs": [
    {
     "name": "stdout",
     "output_type": "stream",
     "text": [
      "['1', '2', '3', '4', '5']\n"
     ]
    }
   ],
   "source": [
    "del str\n",
    "num = 12345\n",
    "str_num = str(num)\n",
    "a = [s for s in str_num]\n",
    "print(a)"
   ]
  },
  {
   "cell_type": "markdown",
   "id": "eed146d8",
   "metadata": {},
   "source": [
    "Дано некоторое число:\n",
    "\n",
    "12345\n",
    "Переверните его:\n",
    "\n",
    "54321"
   ]
  },
  {
   "cell_type": "code",
   "execution_count": 18,
   "id": "f8c3ed81",
   "metadata": {},
   "outputs": [
    {
     "name": "stdout",
     "output_type": "stream",
     "text": [
      "54321\n"
     ]
    }
   ],
   "source": [
    "num = 12345\n",
    "str_num = str(num)\n",
    "str_num = str_num[::-1]\n",
    "print(str_num)"
   ]
  },
  {
   "cell_type": "markdown",
   "id": "b7b7bf2c",
   "metadata": {},
   "source": [
    "Дано некоторое число:\n",
    "\n",
    "12345\n",
    "Найдите сумму цифр этого числа."
   ]
  },
  {
   "cell_type": "code",
   "execution_count": 20,
   "id": "4e5da005",
   "metadata": {},
   "outputs": [
    {
     "name": "stdout",
     "output_type": "stream",
     "text": [
      "15\n"
     ]
    }
   ],
   "source": [
    "a = 12345\n",
    "sum = 0\n",
    "a_str = str(a)\n",
    "for i in a_str:\n",
    "    sum += int(i)\n",
    "print(sum)"
   ]
  },
  {
   "cell_type": "markdown",
   "id": "f614e053",
   "metadata": {},
   "source": [
    "Дан список с числами:\n",
    "\n",
    "[1, 2, 3, 4, 5, 6]\n",
    "Увеличьте каждое число из списка на 10 процентов."
   ]
  },
  {
   "cell_type": "code",
   "execution_count": 24,
   "id": "3a223f12",
   "metadata": {},
   "outputs": [
    {
     "name": "stdout",
     "output_type": "stream",
     "text": [
      "[1.1, 2.2, 3.3, 4.4, 5.5, 6.6]\n"
     ]
    }
   ],
   "source": [
    "a = [1, 2, 3, 4, 5, 6]\n",
    "b = map(lambda x: x + x * 0.1, a)\n",
    "c = list(b)\n",
    "print(c)"
   ]
  },
  {
   "cell_type": "markdown",
   "id": "8d2cade3",
   "metadata": {},
   "source": [
    "Дан словарь с числами:\n",
    "\n",
    "{\n",
    "\t'a': 1,\n",
    "\t'b': 2,\n",
    "\t'c': 3, \n",
    "\t'd': 4,\n",
    "}\n",
    "Увеличьте каждое число из словаря в 2 раза:\n",
    "\n",
    "{\n",
    "\t'a': 2,\n",
    "\t'b': 4,\n",
    "\t'c': 6, \n",
    "\t'd': 8,\n",
    "}"
   ]
  },
  {
   "cell_type": "code",
   "execution_count": 25,
   "id": "605c345e",
   "metadata": {},
   "outputs": [
    {
     "name": "stdout",
     "output_type": "stream",
     "text": [
      "{'a': 2, 'b': 4, 'c': 6, 'd': 8}\n"
     ]
    }
   ],
   "source": [
    "a = {\n",
    "\t'a': 1,\n",
    "\t'b': 2,\n",
    "\t'c': 3, \n",
    "\t'd': 4,\n",
    "}\n",
    "\n",
    "def mult(a: dict):\n",
    "    for key, values in a.items():\n",
    "        a[key] = values * 2\n",
    "    return a\n",
    "\n",
    "print(mult(a))"
   ]
  },
  {
   "cell_type": "markdown",
   "id": "ae01a524",
   "metadata": {},
   "source": [
    "Даны числа, разделенные запятыми:\n",
    "\n",
    "'12,34,56'\n",
    "Найдите сумму этих чисел."
   ]
  },
  {
   "cell_type": "code",
   "execution_count": 60,
   "id": "d42bbaa5",
   "metadata": {},
   "outputs": [
    {
     "name": "stdout",
     "output_type": "stream",
     "text": [
      "102\n"
     ]
    }
   ],
   "source": [
    "string = '12,34,56'\n",
    "a = string.split(sep = ',')\n",
    "sum = 0\n",
    "for i in a:\n",
    "    sum += int(i)\n",
    "print(sum)"
   ]
  },
  {
   "cell_type": "markdown",
   "id": "7d1c3f5a",
   "metadata": {},
   "source": [
    "'2025-12-31'\n",
    "Преобразуйте эту дату в следующий словарь:\n",
    "\n",
    "{\n",
    "\t'year' : '2025',\n",
    "\t'month': '12',\n",
    "\t'day'  : '31',\n",
    "}"
   ]
  },
  {
   "cell_type": "code",
   "execution_count": 91,
   "id": "69641a14",
   "metadata": {},
   "outputs": [
    {
     "name": "stdout",
     "output_type": "stream",
     "text": [
      "['2025', '12', '31']\n",
      "{'year': '2025', 'month': '12', 'day': '31'}\n"
     ]
    }
   ],
   "source": [
    "dic = {}\n",
    "a = '2025-12-31'\n",
    "b = a.split(sep = '-')\n",
    "print(b)\n",
    "c = ['year', 'month', 'day']\n",
    "for i in range(len(b)):\n",
    "    dic[c[i]] = b[i]\n",
    "print(dic)"
   ]
  },
  {
   "cell_type": "markdown",
   "id": "1a7ff624",
   "metadata": {},
   "source": [
    "Дан словарь:\n",
    "\n",
    "{\n",
    "\t'a': 1,\n",
    "\t'b': 2,\n",
    "\t'c': 3, \n",
    "\t'd': 4,\n",
    "}\n",
    "Получите сет его значений:\n",
    "\n",
    "{1, 2, 3, 4}"
   ]
  },
  {
   "cell_type": "markdown",
   "id": "ab1843c5",
   "metadata": {},
   "source": []
  }
 ],
 "metadata": {
  "kernelspec": {
   "display_name": "Python 3",
   "language": "python",
   "name": "python3"
  },
  "language_info": {
   "codemirror_mode": {
    "name": "ipython",
    "version": 3
   },
   "file_extension": ".py",
   "mimetype": "text/x-python",
   "name": "python",
   "nbconvert_exporter": "python",
   "pygments_lexer": "ipython3",
   "version": "3.12.0"
  }
 },
 "nbformat": 4,
 "nbformat_minor": 5
}
