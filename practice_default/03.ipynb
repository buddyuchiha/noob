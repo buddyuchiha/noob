{
 "cells": [
  {
   "cell_type": "markdown",
   "id": "797ef1ad",
   "metadata": {},
   "source": [
    "Дан словарь:\n",
    "\n",
    "{\n",
    "\t'a': 1,\n",
    "\t'b': 2,\n",
    "\t'c': 3, \n",
    "\t'd': 4,\n",
    "}\n",
    "\n",
    "Найдите сумму квадратов элементов этого словаря."
   ]
  },
  {
   "cell_type": "code",
   "execution_count": 12,
   "id": "fb9d0f3b",
   "metadata": {},
   "outputs": [
    {
     "name": "stdout",
     "output_type": "stream",
     "text": [
      "30\n"
     ]
    }
   ],
   "source": [
    "a = {\n",
    "\t'a': 1,\n",
    "\t'b': 2,\n",
    "\t'c': 3, \n",
    "\t'd': 4,\n",
    "}\n",
    "\n",
    "sum = 0\n",
    "\n",
    "for value in a.values():\n",
    "    sum += value ** 2\n",
    "print(sum)"
   ]
  },
  {
   "cell_type": "markdown",
   "id": "9a27839d",
   "metadata": {},
   "source": [
    "Дана строка:\n",
    "\n",
    "'abcde'\n",
    "Получите список букв этой строки."
   ]
  },
  {
   "cell_type": "code",
   "execution_count": 13,
   "id": "28dad3fb",
   "metadata": {},
   "outputs": [
    {
     "name": "stdout",
     "output_type": "stream",
     "text": [
      "['a', 'b', 'c', 'd', 'e']\n"
     ]
    }
   ],
   "source": [
    "str = 'abcde'\n",
    "a = [s for s in str]\n",
    "print(a)"
   ]
  },
  {
   "cell_type": "markdown",
   "id": "57a0c1a0",
   "metadata": {},
   "source": [
    "Дано некоторое число:\n",
    "\n",
    "12345\n",
    "Получите список цифр этого числа."
   ]
  },
  {
   "cell_type": "code",
   "execution_count": 14,
   "id": "a04d93f3",
   "metadata": {},
   "outputs": [
    {
     "name": "stdout",
     "output_type": "stream",
     "text": [
      "['1', '2', '3', '4', '5']\n"
     ]
    }
   ],
   "source": [
    "del str\n",
    "num = 12345\n",
    "str_num = str(num)\n",
    "a = [s for s in str_num]\n",
    "print(a)"
   ]
  },
  {
   "cell_type": "markdown",
   "id": "eed146d8",
   "metadata": {},
   "source": [
    "Дано некоторое число:\n",
    "\n",
    "12345\n",
    "Переверните его:\n",
    "\n",
    "54321"
   ]
  },
  {
   "cell_type": "code",
   "execution_count": 18,
   "id": "f8c3ed81",
   "metadata": {},
   "outputs": [
    {
     "name": "stdout",
     "output_type": "stream",
     "text": [
      "54321\n"
     ]
    }
   ],
   "source": [
    "num = 12345\n",
    "str_num = str(num)\n",
    "str_num = str_num[::-1]\n",
    "print(str_num)"
   ]
  },
  {
   "cell_type": "markdown",
   "id": "b7b7bf2c",
   "metadata": {},
   "source": [
    "Дано некоторое число:\n",
    "\n",
    "12345\n",
    "Найдите сумму цифр этого числа."
   ]
  },
  {
   "cell_type": "code",
   "execution_count": 20,
   "id": "4e5da005",
   "metadata": {},
   "outputs": [
    {
     "name": "stdout",
     "output_type": "stream",
     "text": [
      "15\n"
     ]
    }
   ],
   "source": [
    "a = 12345\n",
    "sum = 0\n",
    "a_str = str(a)\n",
    "for i in a_str:\n",
    "    sum += int(i)\n",
    "print(sum)"
   ]
  },
  {
   "cell_type": "markdown",
   "id": "f614e053",
   "metadata": {},
   "source": [
    "Дан список с числами:\n",
    "\n",
    "[1, 2, 3, 4, 5, 6]\n",
    "Увеличьте каждое число из списка на 10 процентов."
   ]
  },
  {
   "cell_type": "code",
   "execution_count": 24,
   "id": "3a223f12",
   "metadata": {},
   "outputs": [
    {
     "name": "stdout",
     "output_type": "stream",
     "text": [
      "[1.1, 2.2, 3.3, 4.4, 5.5, 6.6]\n"
     ]
    }
   ],
   "source": [
    "a = [1, 2, 3, 4, 5, 6]\n",
    "b = map(lambda x: x + x * 0.1, a)\n",
    "c = list(b)\n",
    "print(c)"
   ]
  },
  {
   "cell_type": "markdown",
   "id": "8d2cade3",
   "metadata": {},
   "source": [
    "Дан словарь с числами:\n",
    "\n",
    "{\n",
    "\t'a': 1,\n",
    "\t'b': 2,\n",
    "\t'c': 3, \n",
    "\t'd': 4,\n",
    "}\n",
    "Увеличьте каждое число из словаря в 2 раза:\n",
    "\n",
    "{\n",
    "\t'a': 2,\n",
    "\t'b': 4,\n",
    "\t'c': 6, \n",
    "\t'd': 8,\n",
    "}"
   ]
  },
  {
   "cell_type": "code",
   "execution_count": 25,
   "id": "605c345e",
   "metadata": {},
   "outputs": [
    {
     "name": "stdout",
     "output_type": "stream",
     "text": [
      "{'a': 2, 'b': 4, 'c': 6, 'd': 8}\n"
     ]
    }
   ],
   "source": [
    "a = {\n",
    "\t'a': 1,\n",
    "\t'b': 2,\n",
    "\t'c': 3, \n",
    "\t'd': 4,\n",
    "}\n",
    "\n",
    "def mult(a: dict):\n",
    "    for key, values in a.items():\n",
    "        a[key] = values * 2\n",
    "    return a\n",
    "\n",
    "print(mult(a))"
   ]
  },
  {
   "cell_type": "markdown",
   "id": "ae01a524",
   "metadata": {},
   "source": [
    "Даны числа, разделенные запятыми:\n",
    "\n",
    "'12,34,56'\n",
    "Найдите сумму этих чисел."
   ]
  },
  {
   "cell_type": "code",
   "execution_count": 60,
   "id": "d42bbaa5",
   "metadata": {},
   "outputs": [
    {
     "name": "stdout",
     "output_type": "stream",
     "text": [
      "102\n"
     ]
    }
   ],
   "source": [
    "string = '12,34,56'\n",
    "a = string.split(sep = ',')\n",
    "sum = 0\n",
    "for i in a:\n",
    "    sum += int(i)\n",
    "print(sum)"
   ]
  },
  {
   "cell_type": "markdown",
   "id": "7d1c3f5a",
   "metadata": {},
   "source": [
    "'2025-12-31'\n",
    "Преобразуйте эту дату в следующий словарь:\n",
    "\n",
    "{\n",
    "\t'year' : '2025',\n",
    "\t'month': '12',\n",
    "\t'day'  : '31',\n",
    "}"
   ]
  },
  {
   "cell_type": "code",
   "execution_count": 91,
   "id": "69641a14",
   "metadata": {},
   "outputs": [
    {
     "name": "stdout",
     "output_type": "stream",
     "text": [
      "['2025', '12', '31']\n",
      "{'year': '2025', 'month': '12', 'day': '31'}\n"
     ]
    }
   ],
   "source": [
    "dic = {}\n",
    "a = '2025-12-31'\n",
    "b = a.split(sep = '-')\n",
    "print(b)\n",
    "c = ['year', 'month', 'day']\n",
    "for i in range(len(b)):\n",
    "    dic[c[i]] = b[i]\n",
    "print(dic)"
   ]
  },
  {
   "cell_type": "markdown",
   "id": "ab1843c5",
   "metadata": {},
   "source": [
    "Дан словарь:\n",
    "\n",
    "{\n",
    "\t'a': 1,\n",
    "\t'b': 2,\n",
    "\t'c': 3, \n",
    "\t'd': 4,\n",
    "}\n",
    "Получите список его ключей:\n",
    "\n",
    "['a', 'b', 'c', 'd']"
   ]
  },
  {
   "cell_type": "code",
   "execution_count": 3,
   "id": "d068febf",
   "metadata": {},
   "outputs": [
    {
     "name": "stdout",
     "output_type": "stream",
     "text": [
      "['a', 'b', 'c', 'd']\n"
     ]
    }
   ],
   "source": [
    "a = {\n",
    "\t'a': 1,\n",
    "\t'b': 2,\n",
    "\t'c': 3, \n",
    "\t'd': 4,\n",
    "}\n",
    "\n",
    "print(list(a.keys()))"
   ]
  },
  {
   "cell_type": "markdown",
   "id": "a4f0d2de",
   "metadata": {},
   "source": [
    "Дана некоторая строка:\n",
    "\n",
    "'abcde'\n",
    "Переведите в верхний регистр все нечетные буквы этой строки. В нашем случае должно получится следующее:\n",
    "\n",
    "'AbCdE'"
   ]
  },
  {
   "cell_type": "code",
   "execution_count": 26,
   "id": "b2417db2",
   "metadata": {},
   "outputs": [
    {
     "name": "stdout",
     "output_type": "stream",
     "text": [
      "AbCdE\n"
     ]
    }
   ],
   "source": [
    "string = 'abcde'\n",
    "string_list = [j for j in string]\n",
    "counter = 0\n",
    "for i in string_list:\n",
    "    if counter % 2 == 0:\n",
    "        string_list[counter] = i.upper()\n",
    "    counter += 1\n",
    "string = ''.join(string_list)\n",
    "print(string) "
   ]
  },
  {
   "cell_type": "markdown",
   "id": "7079a840",
   "metadata": {},
   "source": [
    "Дана некоторая строка со словами:\n",
    "\n",
    "'aaa bbb ccc'\n",
    "Сделайте заглавным первый символ каждого слова в этой строке. В нашем случае должно получится следующее:\n",
    "\n",
    "'Aaa Bbb Ccc'"
   ]
  },
  {
   "cell_type": "code",
   "execution_count": 28,
   "id": "5558d0d0",
   "metadata": {},
   "outputs": [
    {
     "name": "stdout",
     "output_type": "stream",
     "text": [
      "Aaa Bbb Ccc\n"
     ]
    }
   ],
   "source": [
    "a = 'aaa bbb ccc'\n",
    "a_list = a.split(' ')\n",
    "for i in range(len(a_list)): \n",
    "    a_list[i] = a_list[i].capitalize()\n",
    "a = ' '.join(a_list)\n",
    "print(a)"
   ]
  },
  {
   "cell_type": "markdown",
   "id": "104c8874",
   "metadata": {},
   "source": [
    "Дана дата в следующем формате:\n",
    "\n",
    "'2025-12-31'\n",
    "Преобразуйте эту дату в следующий кортеж:\n",
    "\n",
    "('31', '12', '2025')"
   ]
  },
  {
   "cell_type": "code",
   "execution_count": 29,
   "id": "36285a24",
   "metadata": {},
   "outputs": [
    {
     "name": "stdout",
     "output_type": "stream",
     "text": [
      "('2025', '12', '31')\n"
     ]
    }
   ],
   "source": [
    "a = '2025-12-31'\n",
    "a_list = a.split('-')\n",
    "a_tuple = tuple(a_list)\n",
    "print(a_tuple)"
   ]
  },
  {
   "cell_type": "markdown",
   "id": "394ce601",
   "metadata": {},
   "source": [
    "Дана некоторая строка, например, вот такая:\n",
    "\n",
    "'023m0df0dfg0'\n",
    "Получите сет позиций всех нулей в этой в строке."
   ]
  },
  {
   "cell_type": "code",
   "execution_count": 31,
   "id": "87116ecb",
   "metadata": {},
   "outputs": [
    {
     "name": "stdout",
     "output_type": "stream",
     "text": [
      "{0, 11, 4, 7}\n"
     ]
    }
   ],
   "source": [
    "string = '023m0df0dfg0'\n",
    "set_string = set()\n",
    "counter = 0\n",
    "for i in string:\n",
    "    if i == '0':\n",
    "        set_string.add(counter)\n",
    "    counter += 1\n",
    "print(set_string)"
   ]
  },
  {
   "cell_type": "markdown",
   "id": "6554ac91",
   "metadata": {},
   "source": [
    "Дан некоторый список, например, вот такой:\n",
    "\n",
    "[1, 2, 3, 4, 5, 6]\n",
    "Поделите сумму элементов, стоящих на четных позициях, на сумму элементов, стоящих на нечетных позициях."
   ]
  },
  {
   "cell_type": "code",
   "execution_count": 34,
   "id": "562b1550",
   "metadata": {},
   "outputs": [
    {
     "name": "stdout",
     "output_type": "stream",
     "text": [
      "1.3333333333333333\n"
     ]
    }
   ],
   "source": [
    "a = [1, 2, 3, 4, 5, 6]\n",
    "a_chet = 0\n",
    "a_nechet = 0\n",
    "for i in a:\n",
    "    if i % 2 == 0:\n",
    "        a_chet += i\n",
    "    else:\n",
    "        a_nechet += i\n",
    "        \n",
    "print(a_chet/a_nechet) "
   ]
  },
  {
   "cell_type": "markdown",
   "id": "95c6147b",
   "metadata": {},
   "source": [
    "Дана некоторая строка:\n",
    "\n",
    "'AbCdE'\n",
    "Смените регистр букв этой строки на противоположный. В нашем случае должно получится следующее:\n",
    "\n",
    "'aBcDe'"
   ]
  },
  {
   "cell_type": "code",
   "execution_count": null,
   "id": "2a8e86fd",
   "metadata": {},
   "outputs": [
    {
     "name": "stdout",
     "output_type": "stream",
     "text": [
      "aBcDe\n"
     ]
    }
   ],
   "source": [
    "string = 'AbCdE'\n",
    "string_list = [i for i in string]\n",
    "for i in range(len(string_list)):\n",
    "    string_list[i] = string_list[i].swapcase()\n",
    "string = ''.join(string_list)\n",
    "print(string)"
   ]
  },
  {
   "cell_type": "markdown",
   "id": "e5a33c92",
   "metadata": {},
   "source": [
    "Дан некоторый список с числами, например, вот такой:\n",
    "\n",
    "[1, 2, 3, 4, 5, 6]\n",
    "Слейте пары элементов вместе:\n",
    "\n",
    "[12, 34, 56]"
   ]
  },
  {
   "cell_type": "code",
   "execution_count": 46,
   "id": "3ecc77db",
   "metadata": {},
   "outputs": [
    {
     "name": "stdout",
     "output_type": "stream",
     "text": [
      "[12, 23, 45]\n"
     ]
    }
   ],
   "source": [
    "a = [1, 2, 3, 4, 5, 6]\n",
    "new_a = []\n",
    "for i in range(len(a)-1):\n",
    "    if i % 2 != 0 or i == 0:\n",
    "        new_a.append(str(a[i]) + str(a[i+1]))\n",
    "new_a = map(int, new_a)\n",
    "a = list(new_a)\n",
    "print(a)"
   ]
  },
  {
   "cell_type": "markdown",
   "id": "9af25f43",
   "metadata": {},
   "source": [
    "Даны две строки:\n",
    "\n",
    "txt1 = 'abcde'\n",
    "txt2 = '12345'\n",
    "Сделайте из этих строк словарь так, чтобы символы первой строки стали ключами, а символы второй строки - значениями:\n",
    "\n",
    "{\n",
    "\t'a': 1,\n",
    "\t'b': 2,\n",
    "\t'c': 3, \n",
    "\t'd': 4,\n",
    "\t'e': 5,\n",
    "}"
   ]
  },
  {
   "cell_type": "code",
   "execution_count": null,
   "id": "c911d430",
   "metadata": {},
   "outputs": [
    {
     "name": "stdout",
     "output_type": "stream",
     "text": [
      "{'a': 1, 'b': 2, 'c': 3, 'd': 4, 'e': 5}\n"
     ]
    }
   ],
   "source": [
    "txt1 = 'abcde'\n",
    "txt2 = '12345'\n",
    "txt1_list = [i for i in txt1]\n",
    "txt2_list = [i for i in txt2]\n",
    "txt_dict = {}\n",
    "for i in range(len(txt1_list)):\n",
    "    txt_dict[txt1_list[i]] = int(txt2_list[i])\n",
    "print(txt_dict)"
   ]
  },
  {
   "cell_type": "markdown",
   "id": "dde0868d",
   "metadata": {},
   "source": [
    "Дан список со строками, содержащими целые числа:\n",
    "\n",
    "['1', '2', '3', '4', '5']\n",
    "Найдите сумму элементов этого списка."
   ]
  },
  {
   "cell_type": "code",
   "execution_count": null,
   "id": "a8fd89e1",
   "metadata": {},
   "outputs": [
    {
     "name": "stdout",
     "output_type": "stream",
     "text": [
      "15\n"
     ]
    }
   ],
   "source": [
    "a = ['1', '2', '3', '4', '5']\n",
    "a_list = map(int, a)\n",
    "print(sum(a_list))"
   ]
  },
  {
   "cell_type": "markdown",
   "id": "70b6e2e3",
   "metadata": {},
   "source": [
    "Дан некоторый список, например, вот такой:\n",
    "\n",
    "[1, 2, 3, 4, 5, 6]\n",
    "Найдите сумму первой половины элементов этого списка."
   ]
  },
  {
   "cell_type": "code",
   "execution_count": 53,
   "id": "db79d966",
   "metadata": {},
   "outputs": [
    {
     "name": "stdout",
     "output_type": "stream",
     "text": [
      "6\n"
     ]
    }
   ],
   "source": [
    "a = [1, 2, 3, 4, 5, 6]\n",
    "a_sum = 0\n",
    "for i in range(len(a) // 2):\n",
    "    a_sum += a[i]\n",
    "print(a_sum)"
   ]
  },
  {
   "cell_type": "markdown",
   "id": "92faf8d3",
   "metadata": {},
   "source": [
    "Даны два кортежа:\n",
    "\n",
    "tpl1 = (1, 2, 3)\n",
    "tpl2 = (4, 5, 6)\n",
    "Объедините эти кортежи в один:\n",
    "\n",
    "(1, 2, 3, 4, 5, 6)"
   ]
  },
  {
   "cell_type": "code",
   "execution_count": 54,
   "id": "8fa8f272",
   "metadata": {},
   "outputs": [
    {
     "name": "stdout",
     "output_type": "stream",
     "text": [
      "(1, 2, 3, 4, 5, 6)\n"
     ]
    }
   ],
   "source": [
    "tpl1 = (1, 2, 3)\n",
    "tpl2 = (4, 5, 6)\n",
    "print(tpl1 + tpl2)"
   ]
  },
  {
   "cell_type": "markdown",
   "id": "c5008316",
   "metadata": {},
   "source": [
    "Даны два словаря:\n",
    "\n",
    "dct1 = {\n",
    "\t'a': 1,\n",
    "\t'b': 2,\n",
    "}\n",
    "dct2 = {\n",
    "\t'c': 3, \n",
    "\t'd': 4,\n",
    "}\n",
    "Объедините эти словари в один:\n",
    "\n",
    "{\n",
    "\t'a': 1,\n",
    "\t'b': 2,\n",
    "\t'c': 3, \n",
    "\t'd': 4,\n",
    "}"
   ]
  },
  {
   "cell_type": "code",
   "execution_count": 57,
   "id": "00583e59",
   "metadata": {},
   "outputs": [
    {
     "name": "stdout",
     "output_type": "stream",
     "text": [
      "{'a': 1, 'b': 2, 'c': 3, 'd': 4}\n"
     ]
    }
   ],
   "source": [
    "dct1 = {\n",
    "\t'a': 1,\n",
    "\t'b': 2,\n",
    "}\n",
    "dct2 = {\n",
    "\t'c': 3, \n",
    "\t'd': 4,\n",
    "}\n",
    "dct1.update(dct2)\n",
    "print(dct1)"
   ]
  },
  {
   "cell_type": "markdown",
   "id": "6905f12c",
   "metadata": {},
   "source": [
    "Дано некоторое слово:\n",
    "\n",
    "'abcba'\n",
    "Проверьте, что это слово читается одинаково с любой стороны."
   ]
  },
  {
   "cell_type": "code",
   "execution_count": 60,
   "id": "2a02625b",
   "metadata": {},
   "outputs": [
    {
     "name": "stdout",
     "output_type": "stream",
     "text": [
      "True\n"
     ]
    }
   ],
   "source": [
    "a = 'abcba'\n",
    "for i in range(len(a) // 2):\n",
    "    if not (a[i] == a[-i - 1]):\n",
    "        print(False) \n",
    "print(True) \n",
    "    "
   ]
  },
  {
   "cell_type": "markdown",
   "id": "8074017f",
   "metadata": {},
   "source": [
    "Даны два сета:\n",
    "\n",
    "st1 = {1, 2, 3}\n",
    "st2 = {4, 5, 6}\n",
    "Объедините эти сеты в один:\n",
    "\n",
    "{1, 2, 3, 4, 5, 6}"
   ]
  },
  {
   "cell_type": "code",
   "execution_count": 62,
   "id": "eeec7a42",
   "metadata": {},
   "outputs": [
    {
     "name": "stdout",
     "output_type": "stream",
     "text": [
      "{1, 2, 3, 4, 5, 6}\n"
     ]
    }
   ],
   "source": [
    "st1 = {1, 2, 3}\n",
    "st2 = {4, 5, 6}\n",
    "st1.update(st2)\n",
    "print(st1)"
   ]
  },
  {
   "cell_type": "markdown",
   "id": "88165951",
   "metadata": {},
   "source": [
    "Даны два сета:\n",
    "\n",
    "st1 = {1, 2, 3, 4, 5}\n",
    "st2 = {4, 5, 6, 7, 8}\n",
    "Получите сет элементов, входящих только в один из сетов:\n",
    "\n",
    "{1, 2, 3, 6, 7, 8}"
   ]
  },
  {
   "cell_type": "code",
   "execution_count": 71,
   "id": "e6d3bba1",
   "metadata": {},
   "outputs": [
    {
     "name": "stdout",
     "output_type": "stream",
     "text": [
      "{1, 2, 3, 6, 7, 8}\n"
     ]
    }
   ],
   "source": [
    "st1 = {1, 2, 3, 4, 5}\n",
    "st2 = {4, 5, 6, 7, 8}\n",
    "print(st1.symmetric_difference(st2))"
   ]
  },
  {
   "cell_type": "markdown",
   "id": "11ff8d6e",
   "metadata": {},
   "source": [
    "Даны два списка:\n",
    "\n",
    "lst1 = [1, 2, 3, 4, 5]\n",
    "lst2 = [4, 5, 6, 7, 8]\n",
    "Получите список их общих элементов:\n",
    "\n",
    "[4, 5]"
   ]
  },
  {
   "cell_type": "code",
   "execution_count": 74,
   "id": "16cc9917",
   "metadata": {},
   "outputs": [
    {
     "name": "stdout",
     "output_type": "stream",
     "text": [
      "[4, 5]\n"
     ]
    }
   ],
   "source": [
    "lst1 = [1, 2, 3, 4, 5]\n",
    "lst2 = [4, 5, 6, 7, 8]\n",
    "set_1 = set(lst1)\n",
    "set_2 = set(lst2)\n",
    "print(list(set_1.intersection(set_2)))"
   ]
  },
  {
   "cell_type": "markdown",
   "id": "602140dd",
   "metadata": {},
   "source": [
    "Даны два списка:\n",
    "\n",
    "lst1 = [1, 2, 3, 4, 5]\n",
    "lst2 = [1, 2, 3]\n",
    "Проверьте, что все элементы первого списка есть во втором."
   ]
  },
  {
   "cell_type": "code",
   "execution_count": 76,
   "id": "46503d75",
   "metadata": {},
   "outputs": [
    {
     "name": "stdout",
     "output_type": "stream",
     "text": [
      "True\n"
     ]
    }
   ],
   "source": [
    "lst1 = [1, 2, 3, 4, 5]\n",
    "lst2 = [1, 2, 3]\n",
    "lst1 = [1, 2, 3, 4, 5]\n",
    "lst2 = [4, 5, 6, 7, 8]\n",
    "set_1 = set(lst1)\n",
    "set_2 = set(lst2)\n",
    "if set_1.intersection(set_2): \n",
    "    print(True)\n",
    "else:\n",
    "    print(False)"
   ]
  },
  {
   "cell_type": "markdown",
   "id": "8e29c470",
   "metadata": {},
   "source": [
    "Даны две строки:\n",
    "\n",
    "txt1 = '12345'\n",
    "txt2 = '45678'\n",
    "Получите символы, которые есть и в одной, и в другой строке:\n",
    "\n",
    "'45'"
   ]
  },
  {
   "cell_type": "code",
   "execution_count": 86,
   "id": "7dcf2e5d",
   "metadata": {},
   "outputs": [
    {
     "name": "stdout",
     "output_type": "stream",
     "text": [
      "54\n"
     ]
    }
   ],
   "source": [
    "txt1 = '12345'\n",
    "txt2 = '45678'\n",
    "lst1 = [i for i in txt1]\n",
    "lst2 = [i for i in txt2]\n",
    "set_1 = set(lst1)\n",
    "set_2 = set(lst2)\n",
    "a = set(set_1.intersection(set_2))\n",
    "print(''.join(a))\n"
   ]
  },
  {
   "cell_type": "markdown",
   "id": "b253f001",
   "metadata": {},
   "source": [
    "Дан список:\n",
    "\n",
    "[1, 2, 3]\n",
    "Сделайте так, чтобы в нем каждый элемент повторился два раза:\n",
    "\n",
    "[1, 1, 2, 2, 3, 3]"
   ]
  },
  {
   "cell_type": "code",
   "execution_count": 100,
   "id": "9f8b7eb1",
   "metadata": {},
   "outputs": [
    {
     "name": "stdout",
     "output_type": "stream",
     "text": [
      "[1, 1, 2, 2, 3, 3]\n"
     ]
    }
   ],
   "source": [
    "a = [1, 2, 3]\n",
    "for i in range(0, len(a)+2, 2):\n",
    "    a.insert(i+1, a[i])\n",
    "print(a)"
   ]
  },
  {
   "cell_type": "markdown",
   "id": "06a2dce4",
   "metadata": {},
   "source": [
    "Даны два списка:\n",
    "\n",
    "lst1 = [1, 2, 3]\n",
    "lst2 = [4, 5, 6]\n",
    "Переберите эти списки одним циклом и в каждой итерации выводите их элементы следующим образом:\n",
    "\n",
    "'1,4'\n",
    "'2,5'\n",
    "'3,6'"
   ]
  },
  {
   "cell_type": "code",
   "execution_count": 104,
   "id": "1ffa030d",
   "metadata": {},
   "outputs": [
    {
     "name": "stdout",
     "output_type": "stream",
     "text": [
      "'1, 4'\n",
      "'2, 5'\n",
      "'3, 6'\n"
     ]
    }
   ],
   "source": [
    "lst1 = [1, 2, 3]\n",
    "lst2 = [4, 5, 6]\n",
    "for i in range(len(lst1)):\n",
    "    print(f\"'{lst1[i]}, {lst2[i]}'\")"
   ]
  },
  {
   "cell_type": "markdown",
   "id": "2e830834",
   "metadata": {},
   "source": [
    "Даны два списка:\n",
    "\n",
    "lst1 = [1, 2, 3];\n",
    "lst2 = [1, 2, 3, 4, 5];\n",
    "Удалите из большего списка лишние элементы с конца так, чтобы длины списков стали одинаковыми."
   ]
  },
  {
   "cell_type": "code",
   "execution_count": 121,
   "id": "5b85ca35",
   "metadata": {},
   "outputs": [
    {
     "name": "stdout",
     "output_type": "stream",
     "text": [
      "[1, 2, 3]\n",
      "[1, 2, 3]\n",
      "True\n"
     ]
    }
   ],
   "source": [
    "lst1 = [1, 2, 3]\n",
    "lst2 = [1, 2, 3, 4, 5]\n",
    "\n",
    "range_1 = (len(lst2) - len(lst1))\n",
    "\n",
    "for i in range(range_1):\n",
    "    lst2.pop()\n",
    "print(lst2)\n",
    "print(lst1)\n",
    "print(lst2 == lst1)"
   ]
  },
  {
   "cell_type": "markdown",
   "id": "ddc06f53",
   "metadata": {},
   "source": [
    "Дан список с некоторыми числами, например, вот такой:\n",
    "\n",
    "[123, 456, 789]\n",
    "Напишите код, который перевернет числа в этом списке по следующему принципу:\n",
    "\n",
    "[321, 654, 987]"
   ]
  },
  {
   "cell_type": "code",
   "execution_count": 122,
   "id": "d1847dbc",
   "metadata": {},
   "outputs": [
    {
     "name": "stdout",
     "output_type": "stream",
     "text": [
      "[321, 654, 987]\n"
     ]
    }
   ],
   "source": [
    "a = [123, 456, 789]\n",
    "\n",
    "for i in range(len(a)):\n",
    "    a[i] = int(str(a[i])[::-1])\n",
    "print(a)"
   ]
  }
 ],
 "metadata": {
  "kernelspec": {
   "display_name": "Python 3",
   "language": "python",
   "name": "python3"
  },
  "language_info": {
   "codemirror_mode": {
    "name": "ipython",
    "version": 3
   },
   "file_extension": ".py",
   "mimetype": "text/x-python",
   "name": "python",
   "nbconvert_exporter": "python",
   "pygments_lexer": "ipython3",
   "version": "3.12.0"
  }
 },
 "nbformat": 4,
 "nbformat_minor": 5
}
