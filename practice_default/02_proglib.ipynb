{
 "cells": [
  {
   "cell_type": "markdown",
   "id": "9a3398d5",
   "metadata": {},
   "source": [
    "Задание 1. Напишите программу, которая запрашивает имя и возраст пользователя, и выводит приветствие и возраст пользователя в следующем году. Пример работы программы:"
   ]
  },
  {
   "cell_type": "code",
   "execution_count": 4,
   "id": "db4f3fb4",
   "metadata": {},
   "outputs": [
    {
     "name": "stdout",
     "output_type": "stream",
     "text": [
      "Привет, Иван !\n",
      "В следующем году тебе будет 31\n"
     ]
    }
   ],
   "source": [
    "name = input(\"Введите свое имя: \")\n",
    "age = int(input(\"Введите свой возраст: \"))\n",
    "print(\"Привет,\", name, \"!\\nВ следующем году тебе будет\", age+1)"
   ]
  },
  {
   "cell_type": "markdown",
   "id": "47c81e6d",
   "metadata": {},
   "source": [
    "Задание 2. Напишите программу, которая запрашивает имя, фамилию и возраст пользователя, а затем выводит эти данные в столбик с помощью f-строки. Результат работы программы:\n",
    "\n",
    "Имя: Евгения\n",
    "Фамилия: Фролова\n",
    "Возраст: 19"
   ]
  },
  {
   "cell_type": "code",
   "execution_count": 5,
   "id": "b4327b1e",
   "metadata": {},
   "outputs": [
    {
     "name": "stdout",
     "output_type": "stream",
     "text": [
      "Иван\n",
      "Иванов\n",
      "30\n"
     ]
    }
   ],
   "source": [
    "name = input(\"Введите свое имя: \")\n",
    "surname = input(\" Введите свою фамилию: \")\n",
    "age = int(input(\"Введите свой возраст: \"))\n",
    "print(f\"{name}\\n{surname}\\n{age}\")"
   ]
  },
  {
   "cell_type": "markdown",
   "id": "32311390",
   "metadata": {},
   "source": [
    "Задание 3. Напишите программу, которая выводит на экран прямоугольник 5 х 15, сформированный из звездочек"
   ]
  },
  {
   "cell_type": "code",
   "execution_count": 11,
   "id": "c8c7bf07",
   "metadata": {},
   "outputs": [
    {
     "name": "stdout",
     "output_type": "stream",
     "text": [
      "***************\n",
      "*             *\n",
      "*             *\n",
      "*             *\n",
      "***************\n"
     ]
    }
   ],
   "source": [
    "print('*' * 15)\n",
    "print('*' + ' ' * 13 + '*')\n",
    "print('*' + ' ' * 13 + '*')\n",
    "print('*' + ' ' * 13 + '*')\n",
    "print('*' * 15)"
   ]
  },
  {
   "cell_type": "markdown",
   "id": "03a31e81",
   "metadata": {},
   "source": [
    "Задание 4. Напишите программу, которая получает на вход целое число n из диапазона от 1 до 9 включительно, и выводит результат вычисления выражения nnn – nn – n. Например, если введенное число 3, программа должна вывести 297 (333 – 33 – 3)."
   ]
  },
  {
   "cell_type": "code",
   "execution_count": 13,
   "id": "cdab7b19",
   "metadata": {},
   "outputs": [
    {
     "name": "stdout",
     "output_type": "stream",
     "text": [
      "297\n"
     ]
    }
   ],
   "source": [
    "verify = [1, 2, 3, 4, 5, 6, 7, 8, 9]\n",
    "while True:\n",
    "    number = int(input(\"Введите целое число в диапозоне от 1 до 9: \"))\n",
    "    if number in verify:\n",
    "        break\n",
    "print(111 * number - 11 * number - 1 * number)"
   ]
  },
  {
   "cell_type": "markdown",
   "id": "0b397c0d",
   "metadata": {},
   "source": [
    "Задание 5. Напишите программу, которая получает на вход целые положительные числа a и b, а затем выводит результаты математических операций в следующем формате: Число а в степени b = 25\n",
    "Произведение a * b = 10\n",
    "Сумма a + b = 7/\n",
    "Разница a - b = 3"
   ]
  },
  {
   "cell_type": "code",
   "execution_count": 16,
   "id": "62ee5225",
   "metadata": {},
   "outputs": [
    {
     "name": "stdout",
     "output_type": "stream",
     "text": [
      "Число 5 в степени 2 = 25 \n",
      "Произведение 5 * 2 = 10 \n",
      "Сумма 5 + 2 = 7 \n",
      "Разница 5 - 2 = 3\n"
     ]
    }
   ],
   "source": [
    "a = int(input(\"Введите число a: \"))\n",
    "b = int(input(\"Введите число b: \"))\n",
    "\n",
    "print(\n",
    "    f\"Число {a} в степени {b} =\", a ** b,\n",
    "    f\"\\nПроизведение {a} * {b} =\", a * b,\n",
    "    f\"\\nСумма {a} + {b} =\", a + b,\n",
    "    f\"\\nРазница {a} - {b} =\", a - b\n",
    ")"
   ]
  },
  {
   "cell_type": "markdown",
   "id": "77ee81d1",
   "metadata": {},
   "source": [
    "Задание 6. Напишите программу, которая получает от пользователя вещественные числа a и b – длину и ширину прямоугольника, – и выводит периметр и площадь прямоугольника в следующем формате:\n",
    "Площадь S = 88.0\n",
    "Периметр P = 38.0"
   ]
  },
  {
   "cell_type": "code",
   "execution_count": 17,
   "id": "f854d415",
   "metadata": {},
   "outputs": [
    {
     "name": "stdout",
     "output_type": "stream",
     "text": [
      "Площадь S = 20.0 Периметр P =  18.0\n"
     ]
    }
   ],
   "source": [
    "a = float(input(\"Введите число a: \"))\n",
    "b = float(input(\"Введите число b: \"))\n",
    "print(\n",
    "    \"Площадь S =\", a * b,\n",
    "    \"Периметр P = \", (a + b) * 2\n",
    ")"
   ]
  },
  {
   "cell_type": "markdown",
   "id": "1f3436b4",
   "metadata": {},
   "source": [
    "Задание 7. Напишите программу, которая получает на вход число от 420 до 540 (оптимальная продолжительность сна в минутах) и помогает пользователю определить, на какое время (в формате «часы:минуты») нужно установить звонок будильника. Отсчет времени начинается с полуночи."
   ]
  },
  {
   "cell_type": "code",
   "execution_count": 19,
   "id": "2b0490fd",
   "metadata": {},
   "outputs": [
    {
     "name": "stdout",
     "output_type": "stream",
     "text": [
      "Поставь будильник на 7:50\n"
     ]
    }
   ],
   "source": [
    "while True:\n",
    "    time = int(input(\"Введите оптимальную продолжитльность сна:\"))\n",
    "    if time in range(420, 540):\n",
    "        break\n",
    "hour = time // 60\n",
    "minutes = time % 60\n",
    "print(f\"Поставь будильник на {hour}:{minutes}\")"
   ]
  },
  {
   "cell_type": "markdown",
   "id": "1da9a2ef",
   "metadata": {},
   "source": [
    "Задание 8. Напишите программу, которая получает на вход целое число n – количество дней, и конвертирует n в годы, месяцы и дни."
   ]
  },
  {
   "cell_type": "code",
   "execution_count": 22,
   "id": "29146dbb",
   "metadata": {},
   "outputs": [
    {
     "name": "stdout",
     "output_type": "stream",
     "text": [
      "Годы: 1 \n",
      "Месяцы: 1 \n",
      "Дни: 3\n"
     ]
    }
   ],
   "source": [
    "days = int(input(\"Введите количество дней:\"))\n",
    "years = days // 365\n",
    "months = (days - years * 365) // 30\n",
    "new_days = days - years * 365 - months * 30\n",
    "print(\n",
    "    f\"Годы: {years}\",\n",
    "    f\"\\nМесяцы: {months}\",\n",
    "    f\"\\nДни: {new_days}\"\n",
    ")"
   ]
  },
  {
   "cell_type": "markdown",
   "id": "24e63a78",
   "metadata": {},
   "source": [
    "Задание 9. Напишите программу, которая получает от пользователя целое число n – количество секунд, и конвертирует n в часы, минуты и секунды."
   ]
  },
  {
   "cell_type": "code",
   "execution_count": 25,
   "id": "d78540b1",
   "metadata": {},
   "outputs": [
    {
     "name": "stdout",
     "output_type": "stream",
     "text": [
      "Часы: 0 \n",
      "Минуты: 57 \n",
      "Секунды: 6\n"
     ]
    }
   ],
   "source": [
    "seconds = int(input(\"Введите количество секунд:\"))\n",
    "minutes = seconds // 60\n",
    "hours = (seconds - minutes * 60) // 60\n",
    "seconds = seconds - hours * 60 - minutes * 60\n",
    "print(\n",
    "    f\"Часы: {hours}\",\n",
    "    f\"\\nМинуты: {minutes}\",\n",
    "    f\"\\nСекунды: {seconds}\"\n",
    ")"
   ]
  },
  {
   "cell_type": "markdown",
   "id": "e59dd7f3",
   "metadata": {},
   "source": [
    "Задание 10. Напишите программу, которая получает на вход вещественные числа x1, y1, х2, y2 – координаты точек a (x1, y1) и b (х2, y2) на плоскости – и вычисляет расстояние между a и b."
   ]
  },
  {
   "cell_type": "code",
   "execution_count": 29,
   "id": "73637c2f",
   "metadata": {},
   "outputs": [
    {
     "name": "stdout",
     "output_type": "stream",
     "text": [
      "9.963934965664919\n"
     ]
    }
   ],
   "source": [
    "a = []\n",
    "number_1 = float(input(f\"Введите x{i}\"))\n",
    "number_2 = float(input(f\"Введите y{i}\"))\n",
    "a.append(number_1)\n",
    "a.append(number_2)\n",
    "    \n",
    "b = []\n",
    "number_1 = float(input(f\"Введите x{i}\"))\n",
    "number_2 = float(input(f\"Введите y{i}\"))\n",
    "b.append(number_1)\n",
    "b.append(number_2)\n",
    "\n",
    "dist = ((b[0] - a[0]) ** 2 + (b[1] - b[0]) ** 2) ** 0.5\n",
    "print(dist)"
   ]
  }
 ],
 "metadata": {
  "kernelspec": {
   "display_name": "Python 3",
   "language": "python",
   "name": "python3"
  },
  "language_info": {
   "codemirror_mode": {
    "name": "ipython",
    "version": 3
   },
   "file_extension": ".py",
   "mimetype": "text/x-python",
   "name": "python",
   "nbconvert_exporter": "python",
   "pygments_lexer": "ipython3",
   "version": "3.12.0"
  }
 },
 "nbformat": 4,
 "nbformat_minor": 5
}
