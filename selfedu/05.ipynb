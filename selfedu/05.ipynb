{
 "cells": [
  {
   "cell_type": "markdown",
   "id": "1f553821",
   "metadata": {},
   "source": [
    "__#5. Отладка проекта Django в Pycharm__"
   ]
  },
  {
   "cell_type": "markdown",
   "id": "6eb62289",
   "metadata": {},
   "source": [
    "скиип я фанбой вскодика :("
   ]
  }
 ],
 "metadata": {
  "language_info": {
   "name": "python"
  }
 },
 "nbformat": 4,
 "nbformat_minor": 5
}
